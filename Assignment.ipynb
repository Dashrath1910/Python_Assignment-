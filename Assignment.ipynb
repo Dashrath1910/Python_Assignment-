{
 "cells": [
  {
   "cell_type": "markdown",
   "id": "70b84996-4b21-4981-8a64-fc89ed188758",
   "metadata": {},
   "source": [
    "1. Explain the key features of python that make it a popular choice for programming."
   ]
  },
  {
   "cell_type": "markdown",
   "id": "42dc227f-bce4-46d6-bdcc-e7eef0b35a24",
   "metadata": {},
   "source": [
    "Ans. - python is a high level programming language. python versatility has made it a favorite  among developers of all skill levels for beginners to experts.\n",
    "-Easy Syntex\n",
    "-python is object oriented language \n",
    "-Large Standard Library \n",
    "-A lot of libraries \n",
    "-Easy to learn & use\n",
    "-widely used in the industry \n",
    "-data industry\n",
    "-image processing\n",
    "-database\n",
    "-large Community support\n",
    "-and Huge active Community "
   ]
  },
  {
   "cell_type": "markdown",
   "id": "7009e5d4-a0c4-4f57-bd0c-b69a0b2148cb",
   "metadata": {},
   "source": [
    "2. Describe the role of predefined keywords in Python and provide examples of how they are used in a program."
   ]
  },
  {
   "cell_type": "raw",
   "id": "c4512517-187e-47fe-af9a-93f47f3bc2d6",
   "metadata": {},
   "source": [
    "Python Keywords are some predefined and reserved words in Python that have special meanings. Keywords are used to define the syntax of the coding. The keyword cannot be used as an identifier, function, or variable name. All the keywords in Python are written in lowercase except True and False.\n",
    "\n",
    "\n",
    "Examples:"
   ]
  },
  {
   "cell_type": "code",
   "execution_count": 1,
   "id": "4d9a2625-7c61-4d64-8c59-3de668c626ab",
   "metadata": {},
   "outputs": [
    {
     "data": {
      "text/plain": [
       "False"
      ]
     },
     "execution_count": 1,
     "metadata": {},
     "output_type": "execute_result"
    }
   ],
   "source": [
    "True and False"
   ]
  },
  {
   "cell_type": "code",
   "execution_count": null,
   "id": "8fd6bb84-9089-40b2-8001-5b20bbc11905",
   "metadata": {},
   "outputs": [
    {
     "data": {
      "text/plain": [
       "True"
      ]
     },
     "execution_count": 2,
     "metadata": {},
     "output_type": "execute_result"
    }
   ],
   "source": [
    "True or False\n"
   ]
  },
  {
   "cell_type": "markdown",
   "id": "30371487-8d36-473b-a914-3266133ea7a4",
   "metadata": {
    "tags": []
   },
   "source": [
    "3. Compare and contrast mutable and immutable objects in python with Example."
   ]
  },
  {
   "cell_type": "raw",
   "id": "1459c786-28b3-4b2a-92c1-675173ec3321",
   "metadata": {},
   "source": [
    "Mutable :- Mutable objects in Python are those that can be changed after they are created, like lists, sets or dictionaries.\n",
    "Immutable :- Immutable objects, on the other hand, cannot be changed after they are created, like strings, integers, or tuples\n",
    "\n"
   ]
  },
  {
   "cell_type": "code",
   "execution_count": 10,
   "id": "43327bbd-83db-4532-8385-f67780fc8970",
   "metadata": {},
   "outputs": [
    {
     "data": {
      "text/plain": [
       "list"
      ]
     },
     "execution_count": 10,
     "metadata": {},
     "output_type": "execute_result"
    }
   ],
   "source": [
    "list_word = [\"Word\", 15 ]\n",
    "type(list_word)"
   ]
  },
  {
   "cell_type": "code",
   "execution_count": 12,
   "id": "8a717385-2a13-4e42-8258-00da810a50b3",
   "metadata": {},
   "outputs": [
    {
     "data": {
      "text/plain": [
       "15"
      ]
     },
     "execution_count": 12,
     "metadata": {},
     "output_type": "execute_result"
    }
   ],
   "source": [
    "list_word[1]"
   ]
  },
  {
   "cell_type": "code",
   "execution_count": 14,
   "id": "31249343-a278-4e40-9c0b-f613a13a681b",
   "metadata": {},
   "outputs": [
    {
     "data": {
      "text/plain": [
       "['Word', 'pwskills']"
      ]
     },
     "execution_count": 14,
     "metadata": {},
     "output_type": "execute_result"
    }
   ],
   "source": [
    "#change elements \n",
    "list_word[1] = \"pwskills\"\n",
    "list_word"
   ]
  },
  {
   "cell_type": "code",
   "execution_count": 15,
   "id": "9f4be6cb-bece-4ab3-8a5c-aebad5ed942f",
   "metadata": {},
   "outputs": [],
   "source": [
    "name = \"jitu\""
   ]
  },
  {
   "cell_type": "code",
   "execution_count": 16,
   "id": "681d6ac6-6120-4d9b-b09c-0358392f58cf",
   "metadata": {},
   "outputs": [
    {
     "data": {
      "text/plain": [
       "'jitu'"
      ]
     },
     "execution_count": 16,
     "metadata": {},
     "output_type": "execute_result"
    }
   ],
   "source": [
    "name"
   ]
  },
  {
   "cell_type": "code",
   "execution_count": 18,
   "id": "edc81598-a1de-4c4b-b69a-83aad4bc52a6",
   "metadata": {},
   "outputs": [
    {
     "data": {
      "text/plain": [
       "'j'"
      ]
     },
     "execution_count": 18,
     "metadata": {},
     "output_type": "execute_result"
    }
   ],
   "source": [
    "name[0]"
   ]
  },
  {
   "cell_type": "code",
   "execution_count": 19,
   "id": "931d0f34-f194-4206-9d5c-312c41037875",
   "metadata": {},
   "outputs": [
    {
     "ename": "TypeError",
     "evalue": "'str' object does not support item assignment",
     "output_type": "error",
     "traceback": [
      "\u001b[0;31m---------------------------------------------------------------------------\u001b[0m",
      "\u001b[0;31mTypeError\u001b[0m                                 Traceback (most recent call last)",
      "Cell \u001b[0;32mIn[19], line 1\u001b[0m\n\u001b[0;32m----> 1\u001b[0m \u001b[43mname\u001b[49m\u001b[43m[\u001b[49m\u001b[38;5;241;43m0\u001b[39;49m\u001b[43m]\u001b[49m \u001b[38;5;241m=\u001b[39m \u001b[38;5;124m\"\u001b[39m\u001b[38;5;124mr\u001b[39m\u001b[38;5;124m\"\u001b[39m\n",
      "\u001b[0;31mTypeError\u001b[0m: 'str' object does not support item assignment"
     ]
    }
   ],
   "source": [
    "#this is a example of immutable\n",
    "#value was not change \n",
    "name[0] = \"r\""
   ]
  },
  {
   "cell_type": "markdown",
   "id": "c338f69a-7eae-43ff-bc88-0e134fca4f5a",
   "metadata": {},
   "source": [
    "4. Discuss the different types of operators in python and provide examples of how they are used"
   ]
  },
  {
   "cell_type": "raw",
   "id": "8af9f7c1-b27d-4946-a5dc-790b22351fe6",
   "metadata": {},
   "source": [
    "Operators indicates what operation is to be performed while operands indicates on what the action or thr operation should be performed\n",
    "\n",
    "operators are special symbols, combinations of symbols, or keywords that designate some type of computation\n",
    "\n",
    "types of operators\n",
    "1 Arithmetic operators\n",
    "2 Assignment operators\n",
    "3 Comparison operators\n",
    "4 Logical operators\n",
    "5 Identity operators\n",
    "6 Membership operators\n",
    "7 Bitwise operators\n"
   ]
  },
  {
   "cell_type": "raw",
   "id": "fe6e25ab-93c2-4286-95cc-f3c3ffe1687a",
   "metadata": {},
   "source": [
    "1. Arithmetic Operators\n",
    ":- + (addition), - (subtraction), * (multiplication), / (division), and % (modulo)\n",
    "2. Assignment operators\n",
    ":- =, +=, *=, /=, //=, etc.\n",
    "\n"
   ]
  },
  {
   "cell_type": "markdown",
   "id": "678f41da-ca74-4e20-bc77-567b9e43227f",
   "metadata": {},
   "source": [
    "5. Explain the concept of type casting in python with examples"
   ]
  },
  {
   "cell_type": "raw",
   "id": "7eb3f55a-325b-4328-8595-b1d9b54d01f3",
   "metadata": {},
   "source": [
    "The process of changing the data type of a value/object.\n",
    "While executing/computation using operators, there can be mismatch between the datatype.\n",
    "\n"
   ]
  },
  {
   "cell_type": "code",
   "execution_count": 1,
   "id": "baaaed2e-21d3-45e2-bbde-34c175ce8e10",
   "metadata": {},
   "outputs": [
    {
     "data": {
      "text/plain": [
       "str"
      ]
     },
     "execution_count": 1,
     "metadata": {},
     "output_type": "execute_result"
    }
   ],
   "source": [
    "a = \"raju\"\n",
    "type(a)"
   ]
  },
  {
   "cell_type": "code",
   "execution_count": 3,
   "id": "034a1044-ec8e-4d23-8a5e-7d2ae8db4fb1",
   "metadata": {},
   "outputs": [
    {
     "data": {
      "text/plain": [
       "15"
      ]
     },
     "execution_count": 3,
     "metadata": {},
     "output_type": "execute_result"
    }
   ],
   "source": [
    "a = \"10\"\n",
    "b =  5\n",
    "int(a)+b\n",
    "# a datatype is string and change in int."
   ]
  },
  {
   "cell_type": "markdown",
   "id": "9f96b95f-4713-45dc-a8a3-7ba1b220a966",
   "metadata": {},
   "source": [
    "6. How do conditional statements work in Python? Illustrate with examples."
   ]
  },
  {
   "cell_type": "raw",
   "id": "beaed9b3-5618-412b-8b17-42964f1ee205",
   "metadata": {},
   "source": [
    "conditional Statement >> Helps you to code decisions based on some precondition. \n",
    "* if\n",
    "* if - else\n",
    "* if - elif - else\n",
    "* nested if - else"
   ]
  },
  {
   "cell_type": "code",
   "execution_count": 1,
   "id": "87f0cf9b-fa6e-436f-8f79-443ceb953078",
   "metadata": {},
   "outputs": [],
   "source": [
    "#if statement \n",
    "#syntex\n",
    "#if condition True:\n",
    "#    block of code will executed\n"
   ]
  },
  {
   "cell_type": "code",
   "execution_count": 2,
   "id": "510f307d-eb06-4522-8489-f6ae89c50c6d",
   "metadata": {},
   "outputs": [
    {
     "name": "stdout",
     "output_type": "stream",
     "text": [
      "x is positive\n"
     ]
    }
   ],
   "source": [
    "x = 9\n",
    "\n",
    "if x > 8:\n",
    "    print(\"x is positive\")\n",
    "elif x == 9:\n",
    "    print(\"x is zero\")\n",
    "else:\n",
    "    print(\"x is negative\")"
   ]
  },
  {
   "cell_type": "code",
   "execution_count": 4,
   "id": "01a64a9c-3881-420a-a062-f425a004dddd",
   "metadata": {},
   "outputs": [
    {
     "name": "stdout",
     "output_type": "stream",
     "text": [
      "z is negative\n"
     ]
    }
   ],
   "source": [
    "#Conditional statements work in Python\n",
    "z = 10\n",
    "\n",
    "if z > 11:\n",
    "    print(\"z is positive\")\n",
    "elif z <=  9:\n",
    "    print(\"z is zero\")\n",
    "else:\n",
    "    print(\"z is negative\")"
   ]
  },
  {
   "cell_type": "markdown",
   "id": "76d4d0bf-1d2b-4988-ba17-9326465aa947",
   "metadata": {},
   "source": [
    "7. Describe the different types of loops in Python and their use cases with examples."
   ]
  },
  {
   "cell_type": "raw",
   "id": "f94c95cd-a9aa-439e-b04d-67b7c7fa49c1",
   "metadata": {},
   "source": [
    "Python supports two main types of loops for loops and while loops.\n",
    "\n",
    "for loops:-\n",
    "Used to iterate over a sequence of items, such as a list, tuple, or string.\n",
    "\n",
    "while loops:-\n",
    "Used to execute code repeatedly as long as a condition is true.\n"
   ]
  },
  {
   "cell_type": "code",
   "execution_count": 7,
   "id": "d8ea9419-6041-491e-9ddb-932102387c88",
   "metadata": {},
   "outputs": [
    {
     "name": "stdout",
     "output_type": "stream",
     "text": [
      "1\n",
      "2\n",
      "3\n",
      "4\n",
      "5\n"
     ]
    }
   ],
   "source": [
    "#for loop \n",
    "number = [1, 2, 3, 4, 5]\n",
    "for number in number:\n",
    "    print(number)"
   ]
  },
  {
   "cell_type": "code",
   "execution_count": 15,
   "id": "0e485f4e-1137-4954-9e78-eaff57fb93f2",
   "metadata": {},
   "outputs": [
    {
     "name": "stdout",
     "output_type": "stream",
     "text": [
      "1\n",
      "2\n",
      "3\n",
      "4\n",
      "5\n",
      "6\n",
      "7\n",
      "8\n",
      "9\n"
     ]
    }
   ],
   "source": [
    "#while loop\n",
    "nymber = 1\n",
    "while number < 10:\n",
    "    print(number)\n",
    "    number += 1"
   ]
  },
  {
   "cell_type": "code",
   "execution_count": null,
   "id": "e499a6e7-a3bb-4330-bb42-1e4164932993",
   "metadata": {},
   "outputs": [],
   "source": []
  }
 ],
 "metadata": {
  "kernelspec": {
   "display_name": "Python 3 (ipykernel)",
   "language": "python",
   "name": "python3"
  },
  "language_info": {
   "codemirror_mode": {
    "name": "ipython",
    "version": 3
   },
   "file_extension": ".py",
   "mimetype": "text/x-python",
   "name": "python",
   "nbconvert_exporter": "python",
   "pygments_lexer": "ipython3",
   "version": "3.10.8"
  }
 },
 "nbformat": 4,
 "nbformat_minor": 5
}
